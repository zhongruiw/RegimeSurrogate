{
 "cells": [
  {
   "cell_type": "code",
   "execution_count": 89,
   "id": "3918956d",
   "metadata": {
    "code_folding": [
     0
    ]
   },
   "outputs": [],
   "source": [
    "# import\n",
    "import sys\n",
    "sys.path.append('/Users/ree/Documents/Research/RegimeSurrogate/code/CG')\n",
    "import numpy as np\n",
    "import matplotlib.pyplot as plt\n",
    "# from scipy.stats import gaussian_kde\n",
    "from numba import jit\n",
    "import math\n",
    "import skfuzzy as fuzz\n",
    "from sklearn.cluster import KMeans\n",
    "from mpl_toolkits.mplot3d import Axes3D\n",
    "from statsmodels.tsa import stattools \n",
    "from scipy.stats import gaussian_kde\n",
    "import joblib\n",
    "from tqdm import tqdm\n",
    "from matplotlib.gridspec import GridSpec\n",
    "# from sklearn.metrics import silhouette_score\n",
    "from scipy.integrate import odeint\n",
    "import h5py\n",
    "from sklearn.model_selection import train_test_split\n",
    "from sklearn.neighbors import KNeighborsClassifier\n",
    "from sklearn.metrics import accuracy_score\n",
    "from matplotlib.gridspec import GridSpec\n",
    "from sklearn.model_selection import cross_validate\n",
    "from sklearn.metrics import accuracy_score, precision_score, recall_score, roc_auc_score\n",
    "# from FKNN import FuzzyKNN, calculate_distances\n",
    "from sklearn.metrics import silhouette_score\n",
    "from scipy import io\n",
    "from scipy.linalg import det\n",
    "from selecandies import physi_constrain, selc_candifunc, indicate, find_index, find_index_flatten \n",
    "from collections import defaultdict\n",
    "import os\n",
    "from collections import Counter\n",
    "from scipy.io import loadmat\n",
    "\n",
    "\n",
    "# fix the random seed\n",
    "np.random.seed(2022)"
   ]
  },
  {
   "cell_type": "code",
   "execution_count": 47,
   "id": "377ef366",
   "metadata": {},
   "outputs": [],
   "source": [
    "# Parameters\n",
    "dt = 0.002\n",
    "T = 12000\n",
    "N = int(T / dt)\n",
    "noise = loadmat('/Users/ree/Documents/Research/RegimeSurrogate/code/ENSO/noise.mat')['noise']\n",
    "xx = loadmat('/Users/ree/Documents/Research/RegimeSurrogate/code/ENSO/xx.mat')['xx'][0]\n",
    "p = loadmat('/Users/ree/Documents/Research/RegimeSurrogate/code/ENSO/p.mat')['p'][0]\n",
    "m = loadmat('/Users/ree/Documents/Research/RegimeSurrogate/code/ENSO/m.mat')['m'][0][0]\n",
    "lambda_val = 2/60\n",
    "n = len(xx)\n",
    "Phi = np.zeros(n)\n",
    "sgm = np.zeros(n)\n",
    "for i in range(1, n): \n",
    "    Phi[i] = np.trapz((xx[:i+1] - m) * p[:i+1], xx[:i+1])\n",
    "    sgm[i] = np.real(np.sqrt(2 / p[i] * (-lambda_val * Phi[i])))  # replace lambda_val with your lambda variable\n",
    "I = np.zeros(N)\n",
    "for i in range(1, N):\n",
    "    temp = round(I[i-1] * 10)\n",
    "    temp = max(0, min(temp, n - 1))\n",
    "    sgm_x = sgm[temp]\n",
    "    I[i] = I[i-1] + (-lambda_val * (I[i-1] - m) * dt) + sgm_x * noise[5, i-1] * np.sqrt(dt)\n"
   ]
  },
  {
   "cell_type": "code",
   "execution_count": 56,
   "id": "cb049d2f",
   "metadata": {
    "code_folding": []
   },
   "outputs": [],
   "source": [
    "# ENSO model\n",
    "@jit(nopython=True)\n",
    "def reference_model(dt, N, noise, p, xx, m, n, Phi, sgm, I):\n",
    "    factor = 0.6\n",
    "    \n",
    "    c = 1\n",
    "    gamma = 0.75 * factor\n",
    "    r = 0.25 * factor\n",
    "    alpha_2 = 0.125 * factor\n",
    "    alpha_1 = alpha_2 / 2\n",
    "    b_0 = 2.5\n",
    "    mu = 0.5\n",
    "\n",
    "    u_3R = np.zeros(N)\n",
    "    h_W_3R = np.zeros(N)\n",
    "    T_C_3R = np.zeros(N)\n",
    "    T_E_3R = np.zeros(N)\n",
    "    s1 = np.zeros(N)\n",
    "    s2 = np.zeros(N)\n",
    "    s3 = np.zeros(N)\n",
    "    tau = np.zeros(N)\n",
    "    d_tau = 2\n",
    "    Cu = 0.03 * factor\n",
    "    currentState = 'A'\n",
    "\n",
    "    sigma_A = 0.1\n",
    "    sigma_B = 2.0\n",
    "    random_state_changes = np.random.rand(N-1) > 0.9\n",
    "    current_state_is_A = currentState == 'A'\n",
    "    states_is_A = [current_state_is_A]\n",
    "    \n",
    "    # Since the state changes are stochastic, we still need a loop to update them\n",
    "    for i in range(1, N):\n",
    "        if current_state_is_A and random_state_changes[i-1]:\n",
    "            current_state_is_A = False\n",
    "        elif not current_state_is_A and random_state_changes[i-1]:\n",
    "            current_state_is_A = True\n",
    "        states_is_A.append(current_state_is_A)\n",
    "        \n",
    "        sigma = sigma_A if current_state_is_A else sigma_B\n",
    "#         sigma = sigma_A\n",
    "        \n",
    "        c1 = 26 * (T_C_3R[i-1] + 0.1)**2 + 0.95\n",
    "        c1 = c1 * (1 + 0.4 * math.sin((i+1)*dt*2*math.pi/6))\n",
    "        c1 = c1 * factor\n",
    "        \n",
    "        sigma_tau = 0.9 * (math.tanh(4.5 * T_C_3R[i-1]) + 1) * (1 + 0.25 * math.cos((i+1)*dt*2*math.pi/6))\n",
    "        beta_E = (1.0 + (1 - I[i-1]/5)) / 10 * 1.6 * np.sqrt(factor)\n",
    "        beta_u = -0.2 * beta_E\n",
    "        beta_h = -0.4 * beta_E\n",
    "        beta_C = 0.8 * beta_E\n",
    "        \n",
    "        c2 = 1.5 * factor * (1 + 0.4 * math.sin((i+1)*dt*2*math.pi/6 + 2*math.pi/6) + 0.2 * math.sin(2*(i+1)*dt*2*math.pi/6 + 2*math.pi/6))\n",
    "\n",
    "        u_3R[i] = u_3R[i-1] + (-r * u_3R[i-1] - alpha_1 * b_0 * mu / 2 * (T_C_3R[i-1] + T_E_3R[i-1])) * dt + 0.04 * np.sqrt(factor) * np.sqrt(dt) * noise[0, i-1] + beta_u * tau[i-1] * dt\n",
    "        h_W_3R[i] = h_W_3R[i-1] + (-r * h_W_3R[i-1] - alpha_2 * b_0 * mu / 2 * (T_C_3R[i-1] + T_E_3R[i-1])) * dt + 0.02 * np.sqrt(factor) * np.sqrt(dt) * noise[1, i-1] + beta_h * tau[i-1] * dt\n",
    "        T_C_3R[i] = T_C_3R[i-1] + ((gamma * b_0 * mu / 2 - c1) * T_C_3R[i-1] + gamma * b_0 * mu / 2 * T_E_3R[i-1] + gamma * h_W_3R[i-1] + sigma * u_3R[i-1] + Cu) * dt + beta_C * tau[i-1] * dt + 0.02 * 2 * np.sqrt(factor) * np.sqrt(dt) * noise[2, i-1]\n",
    "        T_E_3R[i] = T_E_3R[i-1] + (gamma * h_W_3R[i-1] + (gamma * b_0 * mu / 2 + gamma * b_0 * mu - c2) * T_E_3R[i-1] + (gamma * b_0 * mu / 2 - gamma * b_0 * mu) * T_C_3R[i-1]) * dt + beta_E * tau[i-1] * dt + 0.03 * np.sqrt(dt) * np.sqrt(factor) * noise[3, i-1]\n",
    "        tau[i] = tau[i-1] - d_tau * tau[i-1] * dt + sigma_tau * noise[4, i-1] * np.sqrt(dt)\n",
    "\n",
    "        s1[i-1] = np.sin(np.pi * (i+1) * dt / 3)\n",
    "        s2[i-1] = np.sin(np.pi * (i+1) * dt / 3 + 2 * np.pi / 6)\n",
    "        s3[i-1] = np.sin(2 * np.pi * (i+1) * dt / 3 + 2 * np.pi / 6)\n",
    "\n",
    "    # Return all the calculated arrays\n",
    "    return u_3R, h_W_3R, T_C_3R, T_E_3R, tau, I, s1, s2, s3, noise, states_is_A\n",
    "\n",
    "\n",
    "# Call the model function\n",
    "refer_run = {}\n",
    "u_3R, h_W_3R, T_C_3R, T_E_3R, tau, I, s1, s2, s3, noise, states_is_A = reference_model(dt, N, noise, p, xx, m, n, Phi, sgm, I)\n",
    "refer_run['u'] = u_3R; refer_run['hW'] = h_W_3R; refer_run['TE'] = T_E_3R; refer_run['TC'] = T_C_3R; refer_run['tau'] = tau; refer_run['I'] = I; refer_run['s1'] = s1; refer_run['s2'] = s2; refer_run['s3'] = s3; refer_run['noise'] = noise; refer_run['label'] = states_is_A;\n",
    "np.save('../data/referrun_enso.npy', refer_run)"
   ]
  },
  {
   "cell_type": "code",
   "execution_count": 70,
   "id": "ed8a6c6a",
   "metadata": {},
   "outputs": [],
   "source": [
    "# load data\n",
    "# u = np.load('../data/referrun_enso.npy',allow_pickle=True).item()['u']\n",
    "# hW = np.load('../data/referrun_enso.npy',allow_pickle=True).item()['hW']\n",
    "# TE = np.load('../data/referrun_enso.npy',allow_pickle=True).item()['TE']\n",
    "# TC = np.load('../data/referrun_enso.npy',allow_pickle=True).item()['TC']\n",
    "# tau = np.load('../data/referrun_enso.npy',allow_pickle=True).item()['tau']\n",
    "with h5py.File('../data/enso_sigma2state_referrun.hdf5', 'r') as file:\n",
    "    Tc = file['T_C'][()][:,0]\n",
    "    Te = file['T_E'][()][:,0]\n",
    "    hW = file['h_W'][()][:,0]\n",
    "    u = file['u'][()][:,0]\n",
    "    tau = file['tau'][()][:,0]\n",
    "    I = file['I'][()][:,0]"
   ]
  },
  {
   "cell_type": "code",
   "execution_count": 74,
   "id": "6fbd8681",
   "metadata": {},
   "outputs": [
    {
     "data": {
      "text/plain": [
       "(6000000,)"
      ]
     },
     "execution_count": 74,
     "metadata": {},
     "output_type": "execute_result"
    }
   ],
   "source": [
    "Te.shape"
   ]
  },
  {
   "cell_type": "markdown",
   "id": "4e6bb946",
   "metadata": {},
   "source": [
    "# 1.Classification"
   ]
  },
  {
   "cell_type": "markdown",
   "id": "7fe15769",
   "metadata": {},
   "source": [
    "## 1.2.0 True dynamics regimes"
   ]
  },
  {
   "cell_type": "code",
   "execution_count": 59,
   "id": "db47b773",
   "metadata": {},
   "outputs": [
    {
     "data": {
      "text/plain": [
       "Counter({True: 3002756, False: 2997244})"
      ]
     },
     "execution_count": 59,
     "metadata": {},
     "output_type": "execute_result"
    }
   ],
   "source": [
    "Counter(states_is_A)"
   ]
  },
  {
   "cell_type": "code",
   "execution_count": null,
   "id": "b58b7ec1",
   "metadata": {},
   "outputs": [],
   "source": []
  },
  {
   "cell_type": "markdown",
   "id": "e1a99216",
   "metadata": {},
   "source": [
    "## 1.2.4 Ludo's method"
   ]
  },
  {
   "cell_type": "code",
   "execution_count": 84,
   "id": "9a2d3049",
   "metadata": {
    "code_folding": [
     0
    ]
   },
   "outputs": [
    {
     "name": "stdout",
     "output_type": "stream",
     "text": [
      "number of clusters: [10  2  2  2  2  4  4  4]\n",
      "time scales: [16.45431256  7.61630268  7.12155171  4.92444706  4.18054767  3.12362802\n",
      "  3.08980978  2.71618722]\n"
     ]
    }
   ],
   "source": [
    "# Ludo's method\n",
    "def read_matlab_cell_array(file, path):\n",
    "    cell_array = file[path]\n",
    "    cell_content = []\n",
    "    for ref in cell_array:\n",
    "        ref_data = file[ref]\n",
    "        if isinstance(ref_data, h5py.Dataset):\n",
    "            # Convert to a numpy array and add to the list\n",
    "            # Assuming data is stored as a simple array; adjust if needed\n",
    "            data = np.array(ref_data).squeeze()\n",
    "            cell_content.append(data)\n",
    "        else:\n",
    "            # Handle nested structures if necessary\n",
    "            pass  # Implement recursion or other handling as needed\n",
    "    return cell_content\n",
    "\n",
    "save_res = 10\n",
    "with h5py.File('/Users/ree/Documents/Research/RegimeSurrogate/code/ClusteringDynamical/data/enso_sigma2state_TcTe_Ludo_standard.mat', 'r') as file:\n",
    "    labels_ = read_matlab_cell_array(file,'X_LN_array')\n",
    "    labels_ = [np.repeat(ilabels_, save_res)-1 for ilabels_ in labels_]\n",
    "    tscales = file['tau'][()]\n",
    "\n",
    "ncenterss = np.max(np.array(labels_)+1, axis=1)\n",
    "ncenterss = ncenterss[:8]\n",
    "print('number of clusters:', ncenterss)\n",
    "print('time scales:', tscales)\n",
    "\n",
    "label = labels_[1]"
   ]
  },
  {
   "cell_type": "markdown",
   "id": "27e4103f",
   "metadata": {},
   "source": [
    "# 2. Surrogate Model"
   ]
  },
  {
   "cell_type": "markdown",
   "id": "8964ab04",
   "metadata": {},
   "source": [
    "## 2.1 True signals"
   ]
  },
  {
   "cell_type": "code",
   "execution_count": 96,
   "id": "5e822998",
   "metadata": {
    "code_folding": [
     0
    ]
   },
   "outputs": [
    {
     "data": {
      "image/png": "[encoded data removed]",
      "text/plain": [
       "<Figure size 800x500 with 9 Axes>"
      ]
     },
     "metadata": {},
     "output_type": "display_data"
    }
   ],
   "source": [
    "## 2.1 True signals\n",
    "Lag = 8000\n",
    "\n",
    "fig = plt.figure(figsize=(8,5))\n",
    "widths = [8, 2, 2]\n",
    "heights = [2, 2, 2]\n",
    "spec = fig.add_gridspec(ncols=3, nrows=3, width_ratios=widths, height_ratios=heights)\n",
    "\n",
    "plt.subplots_adjust(wspace=0.3, hspace=0.8)     # Adjust the overall spacing of the figure\n",
    "ax1 = fig.add_subplot(spec[0, 0])\n",
    "ax2 = fig.add_subplot(spec[1, 0])\n",
    "ax3 = fig.add_subplot(spec[2, 0])\n",
    "ax4 = fig.add_subplot(spec[0, 1])\n",
    "ax5 = fig.add_subplot(spec[1, 1])\n",
    "ax6 = fig.add_subplot(spec[2, 1])\n",
    "ax7 = fig.add_subplot(spec[0, 2])\n",
    "ax8 = fig.add_subplot(spec[1, 2])\n",
    "ax9 = fig.add_subplot(spec[2, 2])\n",
    "\n",
    "# Subplot for x_truth\n",
    "sel0 = 0\n",
    "sel1 = 60000\n",
    "ax1.plot(np.arange(0, (N) * dt, dt), Tc)\n",
    "ax1.set_xlim(sel0*dt, sel1*dt)\n",
    "ax1.set_title('T_C (true signal)')\n",
    "ax1.set_ylabel('T_C')\n",
    "\n",
    "ax2.plot(np.arange(0, (N) * dt, dt), Te)\n",
    "ax2.set_xlim(sel0*dt, sel1*dt)\n",
    "ax2.set_title('T_E (true signal)')\n",
    "ax2.set_ylabel('T_E')\n",
    "\n",
    "ax3.plot(np.arange(0, (N) * dt, dt), hW)\n",
    "ax3.set_xlim(sel0*dt, sel1*dt)\n",
    "ax3.set_title('h_W (true signal)')\n",
    "ax3.set_ylabel('h_W')\n",
    "ax3.set_xlabel('t')\n",
    "\n",
    "# Subplot for ACF of x_truth\n",
    "ax4.plot(np.arange(0, Lag * dt, dt), stattools.acf(Tc, nlags=Lag-1))\n",
    "ax4.set_title('ACF of T_C')\n",
    "\n",
    "ax5.plot(np.arange(0, Lag * dt, dt), stattools.acf(Te, nlags=Lag-1))\n",
    "ax5.set_title('ACF of T_E')\n",
    "\n",
    "ax6.plot(np.arange(0, Lag * dt, dt), stattools.acf(hW, nlags=Lag-1))\n",
    "ax6.set_title('ACF of h_W')\n",
    "\n",
    "# Subplot for PDF of x_truth\n",
    "kde = gaussian_kde(Tc)\n",
    "xx = np.linspace(np.min(Tc), np.max(Tc), 100)\n",
    "fi = kde.evaluate(xx)\n",
    "ax7.plot(xx, fi)\n",
    "ax7.set_title('PDF of T_C')\n",
    "\n",
    "kde = gaussian_kde(Te)\n",
    "xx = np.linspace(np.min(Te), np.max(Te), 100)\n",
    "fi = kde.evaluate(xx)\n",
    "ax8.plot(xx, fi)\n",
    "ax8.set_title('PDF of T_E')\n",
    "\n",
    "kde = gaussian_kde(hW)\n",
    "xx = np.linspace(np.min(hW), np.max(hW), 100)\n",
    "fi = kde.evaluate(xx)\n",
    "ax9.plot(xx, fi)\n",
    "ax9.set_title('PDF of h_W')\n",
    "plt.savefig('../figure/truesign_enso.png', dpi=150)\n",
    "plt.show()"
   ]
  },
  {
   "cell_type": "markdown",
   "id": "2d00b0b5",
   "metadata": {},
   "source": [
    "## 2.3 Surrogate Model of the Regimes"
   ]
  },
  {
   "cell_type": "code",
   "execution_count": null,
   "id": "39374ed8",
   "metadata": {},
   "outputs": [],
   "source": []
  },
  {
   "cell_type": "code",
   "execution_count": null,
   "id": "37f93bba",
   "metadata": {},
   "outputs": [],
   "source": [
    "# ***************************************************************************************************************"
   ]
  },
  {
   "cell_type": "code",
   "execution_count": null,
   "id": "42a58398",
   "metadata": {
    "code_folding": [
     2,
     18
    ]
   },
   "outputs": [],
   "source": [
    "# Model Identification - Ludo's - 2 regimes\n",
    "# load label data\n",
    "def read_matlab_cell_array(file, path):\n",
    "    cell_array = file[path]\n",
    "    cell_content = []\n",
    "    for ref in cell_array:\n",
    "        ref_data = file[ref]\n",
    "        if isinstance(ref_data, h5py.Dataset):\n",
    "            # Convert to a numpy array and add to the list\n",
    "            # Assuming data is stored as a simple array; adjust if needed\n",
    "            data = np.array(ref_data).squeeze()\n",
    "            cell_content.append(data)\n",
    "        else:\n",
    "            # Handle nested structures if necessary\n",
    "            pass  # Implement recursion or other handling as needed\n",
    "    return cell_content\n",
    "save_res = 10\n",
    "with h5py.File('/Users/ree/Documents/Research/RegimeSurrogate/code/ClusteringDynamical/data/enso_sigma2state_TcTe_Ludo_standard.mat', 'r') as file:\n",
    "    labels_ = read_matlab_cell_array(file,'X_LN_array')\n",
    "    labels_ = [np.repeat(ilabels_, save_res)-1 for ilabels_ in labels_]\n",
    "    tscales = file['tau'][()]\n",
    "label = labels_[1]\n",
    "\n",
    "# Define candidates and true model structure\n",
    "candifunc = [['Tc', 'Te', 'hW', 'u', 'tau', 'I'],\n",
    "             ['Tc', 'Te', 'hW', 'u', 'tau', 'I'],\n",
    "             ['Tc', 'Te', 'hW', 'u', 'tau', 'I']]\n",
    "\n",
    "candifunc1 = [['x^2', 'xy', 'xz', 'x^2y', 'xyz', 'x^2z', 'xy^2', 'xz^2', 'x^4'],\n",
    "             ['xy', 'y^2', 'yz', 'xy^2', 'y^2z', 'xyz', 'x^2y', 'yz^2', 'y^4'],\n",
    "             ['xz', 'yz', 'z^2', 'xyz', 'yz^2', 'xz^2', 'x^2z', 'y^2z', 'z^4']]\n",
    "\n",
    "All_Candidates = []\n",
    "All_Candidates.append(np.vstack((x_truth, y_truth, z_truth, x_truth * y_truth, y_truth * z_truth, z_truth * x_truth,\n",
    "                            y_truth**2, z_truth**2, x_truth**3)))\n",
    "All_Candidates.append(np.vstack((x_truth, y_truth, z_truth, x_truth * y_truth, y_truth * z_truth, z_truth * x_truth,\n",
    "                            x_truth**2, z_truth**2, y_truth**3)))\n",
    "All_Candidates.append(np.vstack((x_truth, y_truth, z_truth, x_truth * y_truth, y_truth * z_truth, z_truth * x_truth,\n",
    "                            x_truth**2, y_truth**2, z_truth**3)))\n",
    "\n",
    "# Parameters\n",
    "# thresholds = [3e-4, 1.5e-4] # threshold of causation entropy\n",
    "type_threshold = 5e-4; # partition the regimes into 2 types according to max entropy\n",
    "n_selc_cands = [6, 6] # number of candidates selected; make sure each d/dt has at least one term\n",
    "L = All_Candidates[0].shape[0]\n",
    "\n",
    "# Partition data into regimes\n",
    "ncenters = 2\n",
    "x_truths = []\n",
    "y_truths = []\n",
    "z_truths = []\n",
    "All_Candi_list = [[],[],[]]\n",
    "indts = []\n",
    "iind_cuts = []\n",
    "derivs = []\n",
    "\n",
    "deriv = np.load('../../data/derivative_PWell_step.npy')\n",
    "\n",
    "for nc in range(ncenters):\n",
    "    bool_label = label == nc\n",
    "    derivs.append(deriv[:,bool_label]/dt)\n",
    "    x_truths.append(x_truth[bool_label])\n",
    "    y_truths.append(y_truth[bool_label])\n",
    "    z_truths.append(z_truth[bool_label])\n",
    "    for l in range(3):\n",
    "        All_Candi_list[l].append(All_Candidates[l][:,bool_label])\n",
    "    indts.append(np.where(bool_label)[0][:-1]) \n",
    "\n",
    "    indt = indts[nc]\n",
    "    ind_cut = [indt[0]]\n",
    "    for i in range(indt.shape[0]-1):\n",
    "        if (indt[i+1] - indt[i]) > 1:\n",
    "            ind_cut.append(indt[i+1])\n",
    "            \n",
    "    # Use numpy.in1d to create a boolean mask for elements in arr that are in elements_to_find\n",
    "    mask = np.in1d(indt, ind_cut)\n",
    "    # Use numpy.where to get the indices where the mask is True\n",
    "    iind_cut = np.where(mask)[0]\n",
    "    iind_cut = np.append(iind_cut, indt.shape[0])\n",
    "    iind_cuts.append(iind_cut)\n",
    "    \n",
    "print('Candidate functions:')\n",
    "print('dx:x, y, z, xy, yz, zx, y^2, z^2, x^3')\n",
    "print('dy:x, y, z, xy, yz, zx, x^2, z^2, y^3')\n",
    "print('dz:x, y, z, xy, yz, zx, x^2, y^2, z^3')\n",
    "\n",
    "type0 = []\n",
    "type1 = []\n",
    "indicators = []\n",
    "# Calculate causation entropy matrix (CEM) based on the Gaussian approximation\n",
    "for rgm in range(ncenters):\n",
    "    CEM = np.zeros((3, L))\n",
    "    for k in range(3):\n",
    "        All_Variables1 = np.vstack((All_Candi_list[k][rgm], derivs[rgm][k,:]))\n",
    "        All_Cov = np.cov(All_Variables1)\n",
    "\n",
    "        for i in range(L):\n",
    "            RXY = np.delete(np.delete(All_Cov, i, axis=0), i, axis=1)\n",
    "            RY = np.delete(np.delete(All_Cov, [i, L], axis=0), [i, L], axis=1)\n",
    "            RXYZ = All_Cov\n",
    "            RYZ = All_Cov[:L, :L]\n",
    "\n",
    "            CEM[k, i] = 0.5 * (np.log(det(RXY)) - np.log(det(RY)) - np.log(det(RXYZ)) + np.log(det(RYZ)))\n",
    "\n",
    "    CEM_Original1 = CEM\n",
    "    if np.max(abs(CEM_Original1)) < type_threshold:\n",
    "#         threshold = thresholds[1]\n",
    "        type1.append(rgm)\n",
    "        itype = 1\n",
    "    else:\n",
    "#         threshold = thresholds[0]\n",
    "        type0.append(rgm)\n",
    "        itype = 0\n",
    "        \n",
    "#     CEM_indicator1 = (CEM_Original1 > threshold).astype(int)\n",
    "    CEM_indicator1 = np.zeros((3,L), dtype=int)\n",
    "    indices = np.unravel_index(np.argsort(CEM_Original1, axis=None)[-n_selc_cands[itype]:][::-1], CEM_Original1.shape)\n",
    "    CEM_indicator1[indices] = 1\n",
    "\n",
    "    # add physics constrain\n",
    "    selc_candifunc1 = selc_candifunc(candifunc1, CEM_indicator1)\n",
    "    phy_candifunc1 = physi_constrain(selc_candifunc1)\n",
    "    indicator = indicate(candifunc1, phy_candifunc1)\n",
    "    final_candifunc = selc_candifunc(candifunc, indicator)\n",
    "    indicators.append(indicator)\n",
    "    \n",
    "    print('Regime{0:d}, type{1:d}'.format(rgm, itype))\n",
    "    print('Model structure (identified physics-constrained model):')\n",
    "    for i in range(3):\n",
    "        print(final_candifunc[i])\n",
    "    print('CEM_Original',CEM_Original1)\n",
    "\n",
    "print('type 0,1:',[len(type0),len(type1)])"
   ]
  },
  {
   "cell_type": "code",
   "execution_count": null,
   "id": "280f5632",
   "metadata": {},
   "outputs": [],
   "source": []
  },
  {
   "cell_type": "code",
   "execution_count": null,
   "id": "1107f4d2",
   "metadata": {},
   "outputs": [],
   "source": []
  },
  {
   "cell_type": "code",
   "execution_count": null,
   "id": "f0c50efd",
   "metadata": {},
   "outputs": [],
   "source": []
  },
  {
   "cell_type": "code",
   "execution_count": null,
   "id": "1eee4d4b",
   "metadata": {},
   "outputs": [],
   "source": []
  },
  {
   "cell_type": "code",
   "execution_count": null,
   "id": "b90fc17e",
   "metadata": {},
   "outputs": [],
   "source": []
  },
  {
   "cell_type": "code",
   "execution_count": null,
   "id": "b7b5c44e",
   "metadata": {},
   "outputs": [],
   "source": []
  },
  {
   "cell_type": "code",
   "execution_count": null,
   "id": "0fe4f6ea",
   "metadata": {},
   "outputs": [],
   "source": []
  },
  {
   "cell_type": "code",
   "execution_count": null,
   "id": "8d130318",
   "metadata": {},
   "outputs": [],
   "source": []
  },
  {
   "cell_type": "code",
   "execution_count": null,
   "id": "31caa5dd",
   "metadata": {},
   "outputs": [],
   "source": []
  },
  {
   "cell_type": "code",
   "execution_count": null,
   "id": "e292378c",
   "metadata": {},
   "outputs": [],
   "source": []
  },
  {
   "cell_type": "code",
   "execution_count": null,
   "id": "f1030654",
   "metadata": {},
   "outputs": [],
   "source": []
  },
  {
   "cell_type": "code",
   "execution_count": null,
   "id": "1f2d4a54",
   "metadata": {},
   "outputs": [],
   "source": []
  },
  {
   "cell_type": "code",
   "execution_count": 50,
   "id": "19e2753b",
   "metadata": {},
   "outputs": [],
   "source": [
    "# check code aligning with matlab\n",
    "u_mat = loadmat('/Users/ree/Documents/Research/RegimeSurrogate/code/ENSO/u_3R.mat')['u_3R'][0]\n",
    "h_mat = loadmat('/Users/ree/Documents/Research/RegimeSurrogate/code/ENSO/h_W_3R.mat')['h_W_3R'][0]\n",
    "tc_mat = loadmat('/Users/ree/Documents/Research/RegimeSurrogate/code/ENSO/T_C_3R.mat')['T_C_3R'][0]\n",
    "te_mat = loadmat('/Users/ree/Documents/Research/RegimeSurrogate/code/ENSO/T_E_3R.mat')['T_E_3R'][0]\n",
    "tau_mat = loadmat('/Users/ree/Documents/Research/RegimeSurrogate/code/ENSO/tau.mat')['tau'][0]\n",
    "I_mat = loadmat('/Users/ree/Documents/Research/RegimeSurrogate/code/ENSO/I.mat')['I'][0]\n",
    "s1_mat = loadmat('/Users/ree/Documents/Research/RegimeSurrogate/code/ENSO/s1.mat')['s1'][0]\n",
    "s2_mat = loadmat('/Users/ree/Documents/Research/RegimeSurrogate/code/ENSO/s2.mat')['s2'][0]\n",
    "s3_mat = loadmat('/Users/ree/Documents/Research/RegimeSurrogate/code/ENSO/s3.mat')['s3'][0]"
   ]
  },
  {
   "cell_type": "code",
   "execution_count": 51,
   "id": "9dff856f",
   "metadata": {},
   "outputs": [
    {
     "data": {
      "text/plain": [
       "array([-0.00419442, -0.00420116, -0.00420916, -0.0042153 , -0.00422023,\n",
       "       -0.00422632, -0.00423301, -0.00423687, -0.00424153, -0.00424545])"
      ]
     },
     "execution_count": 51,
     "metadata": {},
     "output_type": "execute_result"
    }
   ],
   "source": [
    "(u_mat-u_3R)[-10:]"
   ]
  },
  {
   "cell_type": "code",
   "execution_count": 37,
   "id": "1c348f82",
   "metadata": {},
   "outputs": [
    {
     "data": {
      "text/plain": [
       "array([-1.38777878e-17, -1.38777878e-17, -1.38777878e-17, -1.38777878e-17,\n",
       "       -1.38777878e-17, -1.38777878e-17, -1.38777878e-17, -1.38777878e-17,\n",
       "       -1.38777878e-17, -1.38777878e-17])"
      ]
     },
     "execution_count": 37,
     "metadata": {},
     "output_type": "execute_result"
    }
   ],
   "source": [
    "(h_mat-h_W_3R)[-10:]"
   ]
  },
  {
   "cell_type": "code",
   "execution_count": 38,
   "id": "97a50efc",
   "metadata": {},
   "outputs": [
    {
     "data": {
      "text/plain": [
       "array([2.77555756e-17, 2.77555756e-17, 2.77555756e-17, 2.77555756e-17,\n",
       "       2.77555756e-17, 2.77555756e-17, 2.77555756e-17, 2.77555756e-17,\n",
       "       2.77555756e-17, 2.77555756e-17])"
      ]
     },
     "execution_count": 38,
     "metadata": {},
     "output_type": "execute_result"
    }
   ],
   "source": [
    "(tc_mat-T_C_3R)[-10:]"
   ]
  },
  {
   "cell_type": "code",
   "execution_count": 39,
   "id": "47d9178c",
   "metadata": {},
   "outputs": [
    {
     "data": {
      "text/plain": [
       "array([1.38777878e-17, 1.38777878e-17, 1.38777878e-17, 1.38777878e-17,\n",
       "       1.38777878e-17, 1.38777878e-17, 1.38777878e-17, 1.38777878e-17,\n",
       "       1.38777878e-17, 1.38777878e-17])"
      ]
     },
     "execution_count": 39,
     "metadata": {},
     "output_type": "execute_result"
    }
   ],
   "source": [
    "(te_mat-T_E_3R)[-10:]"
   ]
  },
  {
   "cell_type": "code",
   "execution_count": 40,
   "id": "1ba83c00",
   "metadata": {},
   "outputs": [
    {
     "data": {
      "text/plain": [
       "array([2.77555756e-16, 2.77555756e-16, 2.77555756e-16, 2.77555756e-16,\n",
       "       2.81025203e-16, 2.84494650e-16, 2.84494650e-16, 2.84494650e-16,\n",
       "       2.77555756e-16, 2.77555756e-16])"
      ]
     },
     "execution_count": 40,
     "metadata": {},
     "output_type": "execute_result"
    }
   ],
   "source": [
    "(tau_mat-tau)[-10:]"
   ]
  },
  {
   "cell_type": "code",
   "execution_count": 34,
   "id": "b6ac518e",
   "metadata": {},
   "outputs": [
    {
     "data": {
      "text/plain": [
       "array([-8.8817842e-16, -8.8817842e-16, -8.8817842e-16, -8.8817842e-16,\n",
       "       -8.8817842e-16, -8.8817842e-16, -8.8817842e-16, -8.8817842e-16,\n",
       "       -8.8817842e-16, -8.8817842e-16])"
      ]
     },
     "execution_count": 34,
     "metadata": {},
     "output_type": "execute_result"
    }
   ],
   "source": [
    "(I_mat-I)[-10:]"
   ]
  },
  {
   "cell_type": "code",
   "execution_count": 41,
   "id": "e74e6388",
   "metadata": {},
   "outputs": [
    {
     "data": {
      "text/plain": [
       "array([0., 0., 0., 0., 0., 0., 0., 0., 0., 0.])"
      ]
     },
     "execution_count": 41,
     "metadata": {},
     "output_type": "execute_result"
    }
   ],
   "source": [
    "(s1_mat-s1)[-10:]"
   ]
  },
  {
   "cell_type": "code",
   "execution_count": 42,
   "id": "6b518a34",
   "metadata": {},
   "outputs": [
    {
     "data": {
      "text/plain": [
       "array([0.00000000e+00, 0.00000000e+00, 0.00000000e+00, 0.00000000e+00,\n",
       "       0.00000000e+00, 0.00000000e+00, 1.11022302e-16, 0.00000000e+00,\n",
       "       0.00000000e+00, 0.00000000e+00])"
      ]
     },
     "execution_count": 42,
     "metadata": {},
     "output_type": "execute_result"
    }
   ],
   "source": [
    "(s2_mat-s2)[-10:]"
   ]
  },
  {
   "cell_type": "code",
   "execution_count": 43,
   "id": "574134d9",
   "metadata": {},
   "outputs": [
    {
     "data": {
      "text/plain": [
       "array([0.00000000e+00, 0.00000000e+00, 0.00000000e+00, 0.00000000e+00,\n",
       "       0.00000000e+00, 0.00000000e+00, 0.00000000e+00, 1.11022302e-16,\n",
       "       0.00000000e+00, 0.00000000e+00])"
      ]
     },
     "execution_count": 43,
     "metadata": {},
     "output_type": "execute_result"
    }
   ],
   "source": [
    "(s3_mat-s3)[-10:]"
   ]
  },
  {
   "cell_type": "code",
   "execution_count": null,
   "id": "823b6bea",
   "metadata": {},
   "outputs": [],
   "source": []
  }
 ],
 "metadata": {
  "kernelspec": {
   "display_name": "Python [conda env:py]",
   "language": "python",
   "name": "conda-env-py-py"
  },
  "language_info": {
   "codemirror_mode": {
    "name": "ipython",
    "version": 3
   },
   "file_extension": ".py",
   "mimetype": "text/x-python",
   "name": "python",
   "nbconvert_exporter": "python",
   "pygments_lexer": "ipython3",
   "version": "3.11.5"
  }
 },
 "nbformat": 4,
 "nbformat_minor": 5
}
