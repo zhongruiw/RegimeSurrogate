{
 "cells": [
  {
   "cell_type": "code",
   "execution_count": 58,
   "id": "55c79c74",
   "metadata": {},
   "outputs": [],
   "source": [
    "# import\n",
    "import numpy as np\n",
    "# from scipy.stats import gaussian_kde\n",
    "from numba import jit\n",
    "import math\n",
    "from scipy.io import loadmat\n",
    "from collections import Counter\n",
    "\n",
    "\n",
    "# fix the random seed\n",
    "np.random.seed(2022)"
   ]
  },
  {
   "cell_type": "code",
   "execution_count": 47,
   "id": "e030cd1d",
   "metadata": {},
   "outputs": [],
   "source": [
    "# Parameters\n",
    "dt = 0.002\n",
    "T = 12000\n",
    "N = int(T / dt)\n",
    "noise = loadmat('/Users/ree/Documents/Research/RegimeSurrogate/code/ENSO/noise.mat')['noise']\n",
    "xx = loadmat('/Users/ree/Documents/Research/RegimeSurrogate/code/ENSO/xx.mat')['xx'][0]\n",
    "p = loadmat('/Users/ree/Documents/Research/RegimeSurrogate/code/ENSO/p.mat')['p'][0]\n",
    "m = loadmat('/Users/ree/Documents/Research/RegimeSurrogate/code/ENSO/m.mat')['m'][0][0]\n",
    "lambda_val = 2/60\n",
    "n = len(xx)\n",
    "Phi = np.zeros(n)\n",
    "sgm = np.zeros(n)\n",
    "for i in range(1, n): \n",
    "    Phi[i] = np.trapz((xx[:i+1] - m) * p[:i+1], xx[:i+1])\n",
    "    sgm[i] = np.real(np.sqrt(2 / p[i] * (-lambda_val * Phi[i])))  # replace lambda_val with your lambda variable\n",
    "I = np.zeros(N)\n",
    "for i in range(1, N):\n",
    "    temp = round(I[i-1] * 10)\n",
    "    temp = max(0, min(temp, n - 1))\n",
    "    sgm_x = sgm[temp]\n",
    "    I[i] = I[i-1] + (-lambda_val * (I[i-1] - m) * dt) + sgm_x * noise[5, i-1] * np.sqrt(dt)\n"
   ]
  },
  {
   "cell_type": "code",
   "execution_count": 56,
   "id": "cb049d2f",
   "metadata": {
    "code_folding": []
   },
   "outputs": [],
   "source": [
    "# ENSO model\n",
    "@jit(nopython=True)\n",
    "def reference_model(dt, N, noise, p, xx, m, n, Phi, sgm, I):\n",
    "    factor = 0.6\n",
    "    \n",
    "    c = 1\n",
    "    gamma = 0.75 * factor\n",
    "    r = 0.25 * factor\n",
    "    alpha_2 = 0.125 * factor\n",
    "    alpha_1 = alpha_2 / 2\n",
    "    b_0 = 2.5\n",
    "    mu = 0.5\n",
    "\n",
    "    u_3R = np.zeros(N)\n",
    "    h_W_3R = np.zeros(N)\n",
    "    T_C_3R = np.zeros(N)\n",
    "    T_E_3R = np.zeros(N)\n",
    "    s1 = np.zeros(N)\n",
    "    s2 = np.zeros(N)\n",
    "    s3 = np.zeros(N)\n",
    "    tau = np.zeros(N)\n",
    "    d_tau = 2\n",
    "    Cu = 0.03 * factor\n",
    "    currentState = 'A'\n",
    "\n",
    "    sigma_A = 0.1\n",
    "    sigma_B = 2.0\n",
    "    random_state_changes = np.random.rand(N-1) > 0.9\n",
    "    current_state_is_A = currentState == 'A'\n",
    "    states_is_A = [current_state_is_A]\n",
    "    \n",
    "    # Since the state changes are stochastic, we still need a loop to update them\n",
    "    for i in range(1, N):\n",
    "        if current_state_is_A and random_state_changes[i-1]:\n",
    "            current_state_is_A = False\n",
    "        elif not current_state_is_A and random_state_changes[i-1]:\n",
    "            current_state_is_A = True\n",
    "        states_is_A.append(current_state_is_A)\n",
    "        \n",
    "        sigma = sigma_A if current_state_is_A else sigma_B\n",
    "#         sigma = sigma_A\n",
    "        \n",
    "        c1 = 26 * (T_C_3R[i-1] + 0.1)**2 + 0.95\n",
    "        c1 = c1 * (1 + 0.4 * math.sin((i+1)*dt*2*math.pi/6))\n",
    "        c1 = c1 * factor\n",
    "        \n",
    "        sigma_tau = 0.9 * (math.tanh(4.5 * T_C_3R[i-1]) + 1) * (1 + 0.25 * math.cos((i+1)*dt*2*math.pi/6))\n",
    "        beta_E = (1.0 + (1 - I[i-1]/5)) / 10 * 1.6 * np.sqrt(factor)\n",
    "        beta_u = -0.2 * beta_E\n",
    "        beta_h = -0.4 * beta_E\n",
    "        beta_C = 0.8 * beta_E\n",
    "        \n",
    "        c2 = 1.5 * factor * (1 + 0.4 * math.sin((i+1)*dt*2*math.pi/6 + 2*math.pi/6) + 0.2 * math.sin(2*(i+1)*dt*2*math.pi/6 + 2*math.pi/6))\n",
    "\n",
    "        u_3R[i] = u_3R[i-1] + (-r * u_3R[i-1] - alpha_1 * b_0 * mu / 2 * (T_C_3R[i-1] + T_E_3R[i-1])) * dt + 0.04 * np.sqrt(factor) * np.sqrt(dt) * noise[0, i-1] + beta_u * tau[i-1] * dt\n",
    "        h_W_3R[i] = h_W_3R[i-1] + (-r * h_W_3R[i-1] - alpha_2 * b_0 * mu / 2 * (T_C_3R[i-1] + T_E_3R[i-1])) * dt + 0.02 * np.sqrt(factor) * np.sqrt(dt) * noise[1, i-1] + beta_h * tau[i-1] * dt\n",
    "        T_C_3R[i] = T_C_3R[i-1] + ((gamma * b_0 * mu / 2 - c1) * T_C_3R[i-1] + gamma * b_0 * mu / 2 * T_E_3R[i-1] + gamma * h_W_3R[i-1] + sigma * u_3R[i-1] + Cu) * dt + beta_C * tau[i-1] * dt + 0.02 * 2 * np.sqrt(factor) * np.sqrt(dt) * noise[2, i-1]\n",
    "        T_E_3R[i] = T_E_3R[i-1] + (gamma * h_W_3R[i-1] + (gamma * b_0 * mu / 2 + gamma * b_0 * mu - c2) * T_E_3R[i-1] + (gamma * b_0 * mu / 2 - gamma * b_0 * mu) * T_C_3R[i-1]) * dt + beta_E * tau[i-1] * dt + 0.03 * np.sqrt(dt) * np.sqrt(factor) * noise[3, i-1]\n",
    "        tau[i] = tau[i-1] - d_tau * tau[i-1] * dt + sigma_tau * noise[4, i-1] * np.sqrt(dt)\n",
    "\n",
    "        s1[i-1] = np.sin(np.pi * (i+1) * dt / 3)\n",
    "        s2[i-1] = np.sin(np.pi * (i+1) * dt / 3 + 2 * np.pi / 6)\n",
    "        s3[i-1] = np.sin(2 * np.pi * (i+1) * dt / 3 + 2 * np.pi / 6)\n",
    "\n",
    "    # Return all the calculated arrays\n",
    "    return u_3R, h_W_3R, T_C_3R, T_E_3R, tau, I, s1, s2, s3, noise, states_is_A\n",
    "\n",
    "\n",
    "# Call the model function\n",
    "refer_run = {}\n",
    "u_3R, h_W_3R, T_C_3R, T_E_3R, tau, I, s1, s2, s3, noise, states_is_A = reference_model(dt, N, noise, p, xx, m, n, Phi, sgm, I)\n",
    "refer_run['u'] = u_3R; refer_run['hW'] = h_W_3R; refer_run['TE'] = T_E_3R; refer_run['TC'] = T_C_3R; refer_run['tau'] = tau; refer_run['I'] = I; refer_run['s1'] = s1; refer_run['s2'] = s2; refer_run['s3'] = s3; refer_run['noise'] = noise; refer_run['label'] = states_is_A;\n",
    "np.save('../data/referrun_enso.npy', refer_run)"
   ]
  },
  {
   "cell_type": "code",
   "execution_count": null,
   "id": "cb2c5f2f",
   "metadata": {},
   "outputs": [],
   "source": [
    "# load data\n",
    "# u = np.load('../data/referrun_enso.npy',allow_pickle=True).item()['u']\n",
    "# hW = np.load('../data/referrun_enso.npy',allow_pickle=True).item()['hW']\n",
    "# TE = np.load('../data/referrun_enso.npy',allow_pickle=True).item()['TE']\n",
    "# TC = np.load('../data/referrun_enso.npy',allow_pickle=True).item()['TC']\n",
    "# tau = np.load('../data/referrun_enso.npy',allow_pickle=True).item()['tau']\n"
   ]
  },
  {
   "cell_type": "markdown",
   "id": "d4483334",
   "metadata": {},
   "source": [
    "# 1.Classification"
   ]
  },
  {
   "cell_type": "markdown",
   "id": "9a6ae6f7",
   "metadata": {},
   "source": [
    "## 1.2.0 True dynamics regimes"
   ]
  },
  {
   "cell_type": "code",
   "execution_count": 59,
   "id": "71f8f0fb",
   "metadata": {},
   "outputs": [
    {
     "data": {
      "text/plain": [
       "Counter({True: 3002756, False: 2997244})"
      ]
     },
     "execution_count": 59,
     "metadata": {},
     "output_type": "execute_result"
    }
   ],
   "source": [
    "Counter(states_is_A)"
   ]
  },
  {
   "cell_type": "code",
   "execution_count": null,
   "id": "0e33f1ea",
   "metadata": {},
   "outputs": [],
   "source": []
  },
  {
   "cell_type": "markdown",
   "id": "1111aac3",
   "metadata": {},
   "source": [
    "## 1.2.4 Ludo's method"
   ]
  },
  {
   "cell_type": "code",
   "execution_count": null,
   "id": "8bb0b7ff",
   "metadata": {},
   "outputs": [],
   "source": []
  },
  {
   "cell_type": "code",
   "execution_count": 50,
   "id": "19e2753b",
   "metadata": {},
   "outputs": [],
   "source": [
    "# check code aligning with matlab\n",
    "u_mat = loadmat('/Users/ree/Documents/Research/RegimeSurrogate/code/ENSO/u_3R.mat')['u_3R'][0]\n",
    "h_mat = loadmat('/Users/ree/Documents/Research/RegimeSurrogate/code/ENSO/h_W_3R.mat')['h_W_3R'][0]\n",
    "tc_mat = loadmat('/Users/ree/Documents/Research/RegimeSurrogate/code/ENSO/T_C_3R.mat')['T_C_3R'][0]\n",
    "te_mat = loadmat('/Users/ree/Documents/Research/RegimeSurrogate/code/ENSO/T_E_3R.mat')['T_E_3R'][0]\n",
    "tau_mat = loadmat('/Users/ree/Documents/Research/RegimeSurrogate/code/ENSO/tau.mat')['tau'][0]\n",
    "I_mat = loadmat('/Users/ree/Documents/Research/RegimeSurrogate/code/ENSO/I.mat')['I'][0]\n",
    "s1_mat = loadmat('/Users/ree/Documents/Research/RegimeSurrogate/code/ENSO/s1.mat')['s1'][0]\n",
    "s2_mat = loadmat('/Users/ree/Documents/Research/RegimeSurrogate/code/ENSO/s2.mat')['s2'][0]\n",
    "s3_mat = loadmat('/Users/ree/Documents/Research/RegimeSurrogate/code/ENSO/s3.mat')['s3'][0]"
   ]
  },
  {
   "cell_type": "code",
   "execution_count": 51,
   "id": "9dff856f",
   "metadata": {},
   "outputs": [
    {
     "data": {
      "text/plain": [
       "array([-0.00419442, -0.00420116, -0.00420916, -0.0042153 , -0.00422023,\n",
       "       -0.00422632, -0.00423301, -0.00423687, -0.00424153, -0.00424545])"
      ]
     },
     "execution_count": 51,
     "metadata": {},
     "output_type": "execute_result"
    }
   ],
   "source": [
    "(u_mat-u_3R)[-10:]"
   ]
  },
  {
   "cell_type": "code",
   "execution_count": 37,
   "id": "1c348f82",
   "metadata": {},
   "outputs": [
    {
     "data": {
      "text/plain": [
       "array([-1.38777878e-17, -1.38777878e-17, -1.38777878e-17, -1.38777878e-17,\n",
       "       -1.38777878e-17, -1.38777878e-17, -1.38777878e-17, -1.38777878e-17,\n",
       "       -1.38777878e-17, -1.38777878e-17])"
      ]
     },
     "execution_count": 37,
     "metadata": {},
     "output_type": "execute_result"
    }
   ],
   "source": [
    "(h_mat-h_W_3R)[-10:]"
   ]
  },
  {
   "cell_type": "code",
   "execution_count": 38,
   "id": "97a50efc",
   "metadata": {},
   "outputs": [
    {
     "data": {
      "text/plain": [
       "array([2.77555756e-17, 2.77555756e-17, 2.77555756e-17, 2.77555756e-17,\n",
       "       2.77555756e-17, 2.77555756e-17, 2.77555756e-17, 2.77555756e-17,\n",
       "       2.77555756e-17, 2.77555756e-17])"
      ]
     },
     "execution_count": 38,
     "metadata": {},
     "output_type": "execute_result"
    }
   ],
   "source": [
    "(tc_mat-T_C_3R)[-10:]"
   ]
  },
  {
   "cell_type": "code",
   "execution_count": 39,
   "id": "47d9178c",
   "metadata": {},
   "outputs": [
    {
     "data": {
      "text/plain": [
       "array([1.38777878e-17, 1.38777878e-17, 1.38777878e-17, 1.38777878e-17,\n",
       "       1.38777878e-17, 1.38777878e-17, 1.38777878e-17, 1.38777878e-17,\n",
       "       1.38777878e-17, 1.38777878e-17])"
      ]
     },
     "execution_count": 39,
     "metadata": {},
     "output_type": "execute_result"
    }
   ],
   "source": [
    "(te_mat-T_E_3R)[-10:]"
   ]
  },
  {
   "cell_type": "code",
   "execution_count": 40,
   "id": "1ba83c00",
   "metadata": {},
   "outputs": [
    {
     "data": {
      "text/plain": [
       "array([2.77555756e-16, 2.77555756e-16, 2.77555756e-16, 2.77555756e-16,\n",
       "       2.81025203e-16, 2.84494650e-16, 2.84494650e-16, 2.84494650e-16,\n",
       "       2.77555756e-16, 2.77555756e-16])"
      ]
     },
     "execution_count": 40,
     "metadata": {},
     "output_type": "execute_result"
    }
   ],
   "source": [
    "(tau_mat-tau)[-10:]"
   ]
  },
  {
   "cell_type": "code",
   "execution_count": 34,
   "id": "b6ac518e",
   "metadata": {},
   "outputs": [
    {
     "data": {
      "text/plain": [
       "array([-8.8817842e-16, -8.8817842e-16, -8.8817842e-16, -8.8817842e-16,\n",
       "       -8.8817842e-16, -8.8817842e-16, -8.8817842e-16, -8.8817842e-16,\n",
       "       -8.8817842e-16, -8.8817842e-16])"
      ]
     },
     "execution_count": 34,
     "metadata": {},
     "output_type": "execute_result"
    }
   ],
   "source": [
    "(I_mat-I)[-10:]"
   ]
  },
  {
   "cell_type": "code",
   "execution_count": 41,
   "id": "e74e6388",
   "metadata": {},
   "outputs": [
    {
     "data": {
      "text/plain": [
       "array([0., 0., 0., 0., 0., 0., 0., 0., 0., 0.])"
      ]
     },
     "execution_count": 41,
     "metadata": {},
     "output_type": "execute_result"
    }
   ],
   "source": [
    "(s1_mat-s1)[-10:]"
   ]
  },
  {
   "cell_type": "code",
   "execution_count": 42,
   "id": "6b518a34",
   "metadata": {},
   "outputs": [
    {
     "data": {
      "text/plain": [
       "array([0.00000000e+00, 0.00000000e+00, 0.00000000e+00, 0.00000000e+00,\n",
       "       0.00000000e+00, 0.00000000e+00, 1.11022302e-16, 0.00000000e+00,\n",
       "       0.00000000e+00, 0.00000000e+00])"
      ]
     },
     "execution_count": 42,
     "metadata": {},
     "output_type": "execute_result"
    }
   ],
   "source": [
    "(s2_mat-s2)[-10:]"
   ]
  },
  {
   "cell_type": "code",
   "execution_count": 43,
   "id": "574134d9",
   "metadata": {},
   "outputs": [
    {
     "data": {
      "text/plain": [
       "array([0.00000000e+00, 0.00000000e+00, 0.00000000e+00, 0.00000000e+00,\n",
       "       0.00000000e+00, 0.00000000e+00, 0.00000000e+00, 1.11022302e-16,\n",
       "       0.00000000e+00, 0.00000000e+00])"
      ]
     },
     "execution_count": 43,
     "metadata": {},
     "output_type": "execute_result"
    }
   ],
   "source": [
    "(s3_mat-s3)[-10:]"
   ]
  },
  {
   "cell_type": "code",
   "execution_count": null,
   "id": "823b6bea",
   "metadata": {},
   "outputs": [],
   "source": []
  }
 ],
 "metadata": {
  "kernelspec": {
   "display_name": "Python [conda env:py]",
   "language": "python",
   "name": "conda-env-py-py"
  },
  "language_info": {
   "codemirror_mode": {
    "name": "ipython",
    "version": 3
   },
   "file_extension": ".py",
   "mimetype": "text/x-python",
   "name": "python",
   "nbconvert_exporter": "python",
   "pygments_lexer": "ipython3",
   "version": "3.11.5"
  }
 },
 "nbformat": 4,
 "nbformat_minor": 5
}
